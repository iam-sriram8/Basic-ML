{
  "nbformat": 4,
  "nbformat_minor": 0,
  "metadata": {
    "colab": {
      "name": "Untitled0.ipynb",
      "provenance": [],
      "authorship_tag": "ABX9TyOU+03Sm7ZL4DYYhKGHO+zp",
      "include_colab_link": true
    },
    "kernelspec": {
      "name": "python3",
      "display_name": "Python 3"
    },
    "language_info": {
      "name": "python"
    }
  },
  "cells": [
    {
      "cell_type": "markdown",
      "metadata": {
        "id": "view-in-github",
        "colab_type": "text"
      },
      "source": [
        "<a href=\"https://colab.research.google.com/github/iam-sriram8/Basic-ML/blob/main/3simple%20programs.ipynb\" target=\"_parent\"><img src=\"https://colab.research.google.com/assets/colab-badge.svg\" alt=\"Open In Colab\"/></a>"
      ]
    },
    {
      "cell_type": "markdown",
      "metadata": {
        "id": "T3GOSjAWS9ZP"
      },
      "source": [
        "#Adding two numbers"
      ]
    },
    {
      "cell_type": "code",
      "metadata": {
        "colab": {
          "base_uri": "https://localhost:8080/"
        },
        "id": "i_DnM2S7TH1f",
        "outputId": "4bd2062d-de89-48a2-f0ef-35524d6e4867"
      },
      "source": [
        "a = int(input(\"enter a value :\"))\n",
        "b = int(input(\"enter b value :\"))\n",
        "c = a + b\n",
        "print(\"The value of c is \" , c)"
      ],
      "execution_count": 6,
      "outputs": [
        {
          "output_type": "stream",
          "text": [
            "enter a value :77\n",
            "enter b value :88\n",
            "The value of c is  165\n"
          ],
          "name": "stdout"
        }
      ]
    },
    {
      "cell_type": "markdown",
      "metadata": {
        "id": "qNkVMg_EToZR"
      },
      "source": [
        "#subtracting two numbers"
      ]
    },
    {
      "cell_type": "code",
      "metadata": {
        "colab": {
          "base_uri": "https://localhost:8080/"
        },
        "id": "f-5oTmZfTtXO",
        "outputId": "684dfb49-27c2-4d79-e2da-5f6c6c981534"
      },
      "source": [
        "p = int(input(\"enter p value :\"))\n",
        "q = int(input(\"enter q value :\"))\n",
        "r = p - q \n",
        "print(\"The value of r is\" ,r)"
      ],
      "execution_count": 7,
      "outputs": [
        {
          "output_type": "stream",
          "text": [
            "enter p value :77\n",
            "enter q value :88\n",
            "The value of r is -11\n"
          ],
          "name": "stdout"
        }
      ]
    },
    {
      "cell_type": "markdown",
      "metadata": {
        "id": "1EffNFqWUK9_"
      },
      "source": [
        "#multiplying two numbers"
      ]
    },
    {
      "cell_type": "code",
      "metadata": {
        "colab": {
          "base_uri": "https://localhost:8080/"
        },
        "id": "elxl5gUCUPKf",
        "outputId": "3164874b-4b88-49ae-95de-1d8f2c7e5b45"
      },
      "source": [
        "x = int(input(\"Enter x value :\"))\n",
        "y = int(input(\"Enter y value :\"))\n",
        "z = x*y\n",
        "print(\"The value of z is\" ,z)"
      ],
      "execution_count": 9,
      "outputs": [
        {
          "output_type": "stream",
          "text": [
            "Enter x value :7\n",
            "Enter y value :8\n",
            "The value of z is 56\n"
          ],
          "name": "stdout"
        }
      ]
    },
    {
      "cell_type": "code",
      "metadata": {
        "id": "3ySwYre2UoUW"
      },
      "source": [
        "8"
      ],
      "execution_count": null,
      "outputs": []
    }
  ]
}